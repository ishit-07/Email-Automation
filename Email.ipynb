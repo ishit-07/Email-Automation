{
 "cells": [
  {
   "cell_type": "code",
   "execution_count": 1,
   "id": "7c37527b",
   "metadata": {},
   "outputs": [],
   "source": [
    "# we are importing pandas The import pandas portion of the code tells Python to bring the pandas data analysis library into your current environment\n",
    "# smtplib includes the class SMTP, which is useful for communicating with mail servers to send mail.\n",
    "import pandas as pd\n",
    "import smtplib"
   ]
  },
  {
   "cell_type": "code",
   "execution_count": 2,
   "id": "81fa24cc",
   "metadata": {},
   "outputs": [],
   "source": [
    "# we have to write sender address and password\n",
    "SenderAddress = \"bhanuverma2602@gmail.com\"\n",
    "password = \"bckjjfcftodyigto\""
   ]
  },
  {
   "cell_type": "code",
   "execution_count": 3,
   "id": "e7345e89",
   "metadata": {},
   "outputs": [
    {
     "name": "stdout",
     "output_type": "stream",
     "text": [
      "The receiver's mail ids are : \n",
      "\n",
      "['pravven16@gmail.com' 'ayush10roy@gmail.com' 'gopagew368@cupbest.com']\n"
     ]
    }
   ],
   "source": [
    "# Read the email directory file with emails and names\n",
    "e = pd.read_excel(\"email.xlsx\")\n",
    "emails = e['Emails'].values\n",
    "names = e[\"Names\"].values\n",
    "print(f\"The receiver's mail ids are : \\n\\n{emails}\")"
   ]
  },
  {
   "cell_type": "code",
   "execution_count": 4,
   "id": "888aacbf",
   "metadata": {},
   "outputs": [
    {
     "name": "stdout",
     "output_type": "stream",
     "text": [
      "                   Emails    Names\n",
      "0     pravven16@gmail.com  Praveen\n",
      "1    ayush10roy@gmail.com    Ayush\n",
      "2  gopagew368@cupbest.com  gopagew\n"
     ]
    }
   ],
   "source": [
    "# print the excel sheet\n",
    "print(e)"
   ]
  },
  {
   "cell_type": "code",
   "execution_count": 5,
   "id": "14ae42de",
   "metadata": {},
   "outputs": [
    {
     "data": {
      "text/plain": [
       "(235, b'2.7.0 Accepted')"
      ]
     },
     "execution_count": 5,
     "metadata": {},
     "output_type": "execute_result"
    }
   ],
   "source": [
    "# Create SMTP session for sending the mail\n",
    "server = smtplib.SMTP(\"smtp.gmail.com\", 587, timeout=15)\n",
    "server.starttls()\n",
    "server.login(SenderAddress, password)"
   ]
  },
  {
   "cell_type": "code",
   "execution_count": 6,
   "id": "4c5624d4",
   "metadata": {},
   "outputs": [
    {
     "name": "stdout",
     "output_type": "stream",
     "text": [
      "\n",
      "\n",
      "All emails have been sent successfully...!\n"
     ]
    },
    {
     "data": {
      "text/plain": [
       "(221,\n",
       " b'2.0.0 closing connection k10-20020a170902ce0a00b0016231f64631sm1052916plg.309 - gsmtp')"
      ]
     },
     "execution_count": 6,
     "metadata": {},
     "output_type": "execute_result"
    }
   ],
   "source": [
    "# msg = f\"Hello {this is an email form python\"\n",
    "# subject = \"Hello world\"\n",
    "# body = \"Subject: {}\\n\\n{}\".format(subject,msg)\n",
    "for email,name in zip(emails,names):\n",
    "\tsubject = \"Hello, your subscription has been expired.\"\n",
    "\tmsg = f\"Hello {name};\\n\\n\\nThis is an email from spotify you've cancelled your Spotify Premium which will end on 2022-06-24.\"\n",
    "\tbody = \"Subject: {}\\n\\n{}\".format(subject,msg)\n",
    "\tserver.sendmail(SenderAddress, email, body)\n",
    "\n",
    "print(\"\\n\\nAll emails have been sent successfully...!\")\n",
    "server.quit()"
   ]
  },
  {
   "cell_type": "code",
   "execution_count": null,
   "id": "5796cd5c",
   "metadata": {},
   "outputs": [],
   "source": []
  }
 ],
 "metadata": {
  "interpreter": {
   "hash": "369f2c481f4da34e4445cda3fffd2e751bd1c4d706f27375911949ba6bb62e1c"
  },
  "kernelspec": {
   "display_name": "Python 3 (ipykernel)",
   "language": "python",
   "name": "python3"
  },
  "language_info": {
   "codemirror_mode": {
    "name": "ipython",
    "version": 3
   },
   "file_extension": ".py",
   "mimetype": "text/x-python",
   "name": "python",
   "nbconvert_exporter": "python",
   "pygments_lexer": "ipython3",
   "version": "3.9.12"
  }
 },
 "nbformat": 4,
 "nbformat_minor": 5
}
